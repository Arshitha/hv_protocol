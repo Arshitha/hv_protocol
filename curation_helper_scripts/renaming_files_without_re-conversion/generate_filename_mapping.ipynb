{
 "cells": [
  {
   "cell_type": "code",
   "execution_count": 1,
   "metadata": {
    "collapsed": true
   },
   "outputs": [],
   "source": [
    "import csv\n",
    "from pathlib import Path\n",
    "import re\n",
    "\n",
    "import numpy as np\n",
    "import pandas as pd"
   ]
  },
  {
   "cell_type": "code",
   "execution_count": 2,
   "outputs": [],
   "source": [
    "root = Path('/Users/arshitha/Desktop/OneDesk/Projects/17M081_June_2022/hv-protocol-forked-repo/curation_helper_scripts/renaming_files_without_re-conversion')\n",
    "data = root.joinpath('data/17M081_jsons')\n",
    "series_descriptions = root.joinpath('data/all_series_descriptions.txt')"
   ],
   "metadata": {
    "collapsed": false,
    "pycharm": {
     "name": "#%%\n"
    }
   }
  },
  {
   "cell_type": "code",
   "execution_count": 3,
   "outputs": [],
   "source": [
    "# hardcoded\n",
    "desc_with_orig = ['ADNI2 2D FLAIR', 'Anat T1w MP-RAGE 1mm (ABCD)', 'Anat T2w CUBE (ABCD)', 'Axial T2 2D FLAIR ADNI2', 'Optional - Anat T2w CUBE FLAIR','Sag_MPRAGE_T1']\n",
    "desc_with_optional = ['Sagittal 3D FLAIR']\n",
    "desc_list = pd.read_csv(series_descriptions, sep=';', header=None)[0].to_list()\n"
   ],
   "metadata": {
    "collapsed": false,
    "pycharm": {
     "name": "#%%\n"
    }
   }
  },
  {
   "cell_type": "code",
   "execution_count": 4,
   "outputs": [
    {
     "name": "stdout",
     "output_type": "stream",
     "text": [
      "for i in `find . -name '*.json'`; do grep -wH \"\\\"SeriesDescription\\\": \\\"Accelerated Sagittal IR-FSPGR\\\"\" $i; done | sed 's|.json:    \"SeriesDescription\": \"Accelerated Sagittal IR-FSPGR\",||g' > Accelerated_Sagittal_IR-FSPGR.txt\n",
      "\n",
      "for i in `find . -name '*.json'`; do grep -wH \"\\\"SeriesDescription\\\": \\\"ORIG Anat T1w MP-RAGE 1mm (ABCD)\\\"\" $i; done | sed 's|.json:    \"SeriesDescription\": \"ORIG Anat T1w MP-RAGE 1mm (ABCD)\",||g' > ORIG_Anat_T1w_MP-RAGE_1mm_ABCD.txt\n",
      "\n",
      "for i in `find . -name '*.json'`; do grep -wH \"\\\"SeriesDescription\\\": \\\"Anat T1w MP-RAGE 1mm (ABCD)\\\"\" $i; done | sed 's|.json:    \"SeriesDescription\": \"Anat T1w MP-RAGE 1mm (ABCD)\",||g' > Anat_T1w_MP-RAGE_1mm_ABCD.txt\n",
      "\n",
      "for i in `find . -name '*.json'`; do grep -wH \"\\\"SeriesDescription\\\": \\\"ORIG Sag_MPRAGE_T1\\\"\" $i; done | sed 's|.json:    \"SeriesDescription\": \"ORIG Sag_MPRAGE_T1\",||g' > ORIG_Sag_MPRAGE_T1.txt\n",
      "\n",
      "for i in `find . -name '*.json'`; do grep -wH \"\\\"SeriesDescription\\\": \\\"PURE MP-RAGE 1mm\\\"\" $i; done | sed 's|.json:    \"SeriesDescription\": \"PURE MP-RAGE 1mm\",||g' > PURE_MP-RAGE_1mm.txt\n",
      "\n",
      "for i in `find . -name '*.json'`; do grep -wH \"\\\"SeriesDescription\\\": \\\"Ax T2 FLAIR\\\"\" $i; done | sed 's|.json:    \"SeriesDescription\": \"Ax T2 FLAIR\",||g' > Ax_T2_FLAIR.txt\n",
      "\n",
      "for i in `find . -name '*.json'`; do grep -wH \"\\\"SeriesDescription\\\": \\\"Axial T2 2D FLAIR\\\"\" $i; done | sed 's|.json:    \"SeriesDescription\": \"Axial T2 2D FLAIR\",||g' > Axial_T2_2D_FLAIR.txt\n",
      "\n",
      "for i in `find . -name '*.json'`; do grep -wH \"\\\"SeriesDescription\\\": \\\"Axial T2 2D FLAIR ADNI2\\\"\" $i; done | sed 's|.json:    \"SeriesDescription\": \"Axial T2 2D FLAIR ADNI2\",||g' > Axial_T2_2D_FLAIR_ADNI2.txt\n",
      "\n",
      "for i in `find . -name '*.json'`; do grep -wH \"\\\"SeriesDescription\\\": \\\"ORIG Axial T2 2D FLAIR ADNI2\\\"\" $i; done | sed 's|.json:    \"SeriesDescription\": \"ORIG Axial T2 2D FLAIR ADNI2\",||g' > ORIG_Axial_T2_2D_FLAIR_ADNI2.txt\n",
      "\n",
      "for i in `find . -name '*.json'`; do grep -wH \"\\\"SeriesDescription\\\": \\\"ADNI2 2D FLAIR\\\"\" $i; done | sed 's|.json:    \"SeriesDescription\": \"ADNI2 2D FLAIR\",||g' > ADNI2_2D_FLAIR.txt\n",
      "\n",
      "for i in `find . -name '*.json'`; do grep -wH \"\\\"SeriesDescription\\\": \\\"ORIG ADNI2 2D FLAIR\\\"\" $i; done | sed 's|.json:    \"SeriesDescription\": \"ORIG ADNI2 2D FLAIR\",||g' > ORIG_ADNI2_2D_FLAIR.txt\n",
      "\n",
      "for i in `find . -name '*.json'`; do grep -wH \"\\\"SeriesDescription\\\": \\\"ORIG Optional - Anat T2w CUBE FLAIR\\\"\" $i; done | sed 's|.json:    \"SeriesDescription\": \"ORIG Optional - Anat T2w CUBE FLAIR\",||g' > ORIG_Optional_-_Anat_T2w_CUBE_FLAIR.txt\n",
      "\n",
      "for i in `find . -name '*.json'`; do grep -wH \"\\\"SeriesDescription\\\": \\\"Optional - Anat T2w CUBE FLAIR\\\"\" $i; done | sed 's|.json:    \"SeriesDescription\": \"Optional - Anat T2w CUBE FLAIR\",||g' > Optional_-_Anat_T2w_CUBE_FLAIR.txt\n",
      "\n",
      "for i in `find . -name '*.json'`; do grep -wH \"\\\"SeriesDescription\\\": \\\"Optional - Sagittal 3D FLAIR\\\"\" $i; done | sed 's|.json:    \"SeriesDescription\": \"Optional - Sagittal 3D FLAIR\",||g' > Optional_-_Sagittal_3D_FLAIR.txt\n",
      "\n",
      "for i in `find . -name '*.json'`; do grep -wH \"\\\"SeriesDescription\\\": \\\"Sagittal 3D FLAIR\\\"\" $i; done | sed 's|.json:    \"SeriesDescription\": \"Sagittal 3D FLAIR\",||g' > Sagittal_3D_FLAIR.txt\n",
      "\n",
      "for i in `find . -name '*.json'`; do grep -wH \"\\\"SeriesDescription\\\": \\\"ORIG Anat T2w CUBE (ABCD)\\\"\" $i; done | sed 's|.json:    \"SeriesDescription\": \"ORIG Anat T2w CUBE (ABCD)\",||g' > ORIG_Anat_T2w_CUBE_ABCD.txt\n",
      "\n",
      "for i in `find . -name '*.json'`; do grep -wH \"\\\"SeriesDescription\\\": \\\"Anat T2w CUBE (ABCD)\\\"\" $i; done | sed 's|.json:    \"SeriesDescription\": \"Anat T2w CUBE (ABCD)\",||g' > Anat_T2w_CUBE_ABCD.txt\n",
      "\n",
      "for i in `find . -name '*.json'`; do grep -wH \"\\\"SeriesDescription\\\": \\\"Sag_CUBE_T2\\\"\" $i; done | sed 's|.json:    \"SeriesDescription\": \"Sag_CUBE_T2\",||g' > Sag_CUBE_T2.txt\n",
      "\n",
      "for i in `find . -name '*.json'`; do grep -wH \"\\\"SeriesDescription\\\": \\\"Axial T2 Star\\\"\" $i; done | sed 's|.json:    \"SeriesDescription\": \"Axial T2 Star\",||g' > Axial_T2_Star.txt\n",
      "\n",
      "for i in `find . -name '*.json'`; do grep -wH \"\\\"SeriesDescription\\\": \\\"Axial T2 Star (Rx 2D FLAIR)\\\"\" $i; done | sed 's|.json:    \"SeriesDescription\": \"Axial T2 Star (Rx 2D FLAIR)\",||g' > Axial_T2_Star_Rx_2D_FLAIR.txt\n",
      "\n",
      "for i in `find . -name '*.json'`; do grep -wH \"\\\"SeriesDescription\\\": \\\"Axial 3D pCASL (Eyes Open)\\\"\" $i; done | sed 's|.json:    \"SeriesDescription\": \"Axial 3D pCASL (Eyes Open)\",||g' > Axial_3D_pCASL_Eyes_Open.txt\n",
      "\n",
      "for i in `find . -name '*.json'`; do grep -wH \"\\\"SeriesDescription\\\": \\\"Axial 3D pCASL with Eyes Open\\\"\" $i; done | sed 's|.json:    \"SeriesDescription\": \"Axial 3D pCASL with Eyes Open\",||g' > Axial_3D_pCASL_with_Eyes_Open.txt\n",
      "\n",
      "for i in `find . -name '*.json'`; do grep -wH \"\\\"SeriesDescription\\\": \\\"Axial DTI\\\"\" $i; done | sed 's|.json:    \"SeriesDescription\": \"Axial DTI\",||g' > Axial_DTI.txt\n",
      "\n",
      "for i in `find . -name '*.json'`; do grep -wH \"\\\"SeriesDescription\\\": \\\"Axial DTI - swap pepolar CV\\\"\" $i; done | sed 's|.json:    \"SeriesDescription\": \"Axial DTI - swap pepolar CV\",||g' > Axial_DTI_-_swap_pepolar_CV.txt\n",
      "\n",
      "for i in `find . -name '*.json'`; do grep -wH \"\\\"SeriesDescription\\\": \\\"Axial DTI 24vols flipped\\\"\" $i; done | sed 's|.json:    \"SeriesDescription\": \"Axial DTI 24vols flipped\",||g' > Axial_DTI_24vols_flipped.txt\n",
      "\n",
      "for i in `find . -name '*.json'`; do grep -wH \"\\\"SeriesDescription\\\": \\\"Axial DTI 24dirs flipped\\\"\" $i; done | sed 's|.json:    \"SeriesDescription\": \"Axial DTI 24dirs flipped\",||g' > Axial_DTI_24dirs_flipped.txt\n",
      "\n",
      "for i in `find . -name '*.json'`; do grep -wH \"\\\"SeriesDescription\\\": \\\"Axial DTI 24dir flipped\\\"\" $i; done | sed 's|.json:    \"SeriesDescription\": \"Axial DTI 24dir flipped\",||g' > Axial_DTI_24dir_flipped.txt\n",
      "\n",
      "for i in `find . -name '*.json'`; do grep -wH \"\\\"SeriesDescription\\\": \\\"Axial DTI B=1000\\\"\" $i; done | sed 's|.json:    \"SeriesDescription\": \"Axial DTI B=1000\",||g' > Axial_DTI_B=1000.txt\n",
      "\n",
      "for i in `find . -name '*.json'`; do grep -wH \"\\\"SeriesDescription\\\": \\\"Axial DTI B 1000\\\"\" $i; done | sed 's|.json:    \"SeriesDescription\": \"Axial DTI B 1000\",||g' > Axial_DTI_B_1000.txt\n",
      "\n",
      "for i in `find . -name '*.json'`; do grep -wH \"\\\"SeriesDescription\\\": \\\"Axial DTI 24dirs flipped - RKV\\\"\" $i; done | sed 's|.json:    \"SeriesDescription\": \"Axial DTI 24dirs flipped - RKV\",||g' > Axial_DTI_24dirs_flipped_-_RKV.txt\n",
      "\n",
      "for i in `find . -name '*.json'`; do grep -wH \"\\\"SeriesDescription\\\": \\\"Axial DTI B 1000 - RKV\\\"\" $i; done | sed 's|.json:    \"SeriesDescription\": \"Axial DTI B 1000 - RKV\",||g' > Axial_DTI_B_1000_-_RKV.txt\n",
      "\n",
      "for i in `find . -name '*.json'`; do grep -wH \"\\\"SeriesDescription\\\": \\\"Axial rsfMRI (Eyes Open)\\\"\" $i; done | sed 's|.json:    \"SeriesDescription\": \"Axial rsfMRI (Eyes Open)\",||g' > Axial_rsfMRI_Eyes_Open.txt\n",
      "\n",
      "for i in `find . -name '*.json'`; do grep -wH \"\\\"SeriesDescription\\\": \\\"Axial fMRI reverse blip\\\"\" $i; done | sed 's|.json:    \"SeriesDescription\": \"Axial fMRI reverse blip\",||g' > Axial_fMRI_reverse_blip.txt\n",
      "\n",
      "for i in `find . -name '*.json'`; do grep -wH \"\\\"SeriesDescription\\\": \\\"Axial rsfMRI with Eyes Open - RKV\\\"\" $i; done | sed 's|.json:    \"SeriesDescription\": \"Axial rsfMRI with Eyes Open - RKV\",||g' > Axial_rsfMRI_with_Eyes_Open_-_RKV.txt\n",
      "\n",
      "for i in `find . -name '*.json'`; do grep -wH \"\\\"SeriesDescription\\\": \\\"Axial rsfMRI reverse blip - RKV\\\"\" $i; done | sed 's|.json:    \"SeriesDescription\": \"Axial rsfMRI reverse blip - RKV\",||g' > Axial_rsfMRI_reverse_blip_-_RKV.txt\n",
      "\n",
      "for i in `find . -name '*.json'`; do grep -wH \"\\\"SeriesDescription\\\": \\\"B0 Map - DTI\\\"\" $i; done | sed 's|.json:    \"SeriesDescription\": \"B0 Map - DTI\",||g' > B0_Map_-_DTI.txt\n",
      "\n",
      "for i in `find . -name '*.json'`; do grep -wH \"\\\"SeriesDescription\\\": \\\"B0 Map - DTI - RKV\\\"\" $i; done | sed 's|.json:    \"SeriesDescription\": \"B0 Map - DTI - RKV\",||g' > B0_Map_-_DTI_-_RKV.txt\n",
      "\n",
      "for i in `find . -name '*.json'`; do grep -wH \"\\\"SeriesDescription\\\": \\\"B0 Map - rsfMRI\\\"\" $i; done | sed 's|.json:    \"SeriesDescription\": \"B0 Map - rsfMRI\",||g' > B0_Map_-_rsfMRI.txt\n",
      "\n",
      "for i in `find . -name '*.json'`; do grep -wH \"\\\"SeriesDescription\\\": \\\"B0 Map - rsfMRI - RKV\\\"\" $i; done | sed 's|.json:    \"SeriesDescription\": \"B0 Map - rsfMRI - RKV\",||g' > B0_Map_-_rsfMRI_-_RKV.txt\n",
      "\n",
      "for i in `find . -name '*.json'`; do grep -wH \"\\\"SeriesDescription\\\": \\\"HighResHippo\\\"\" $i; done | sed 's|.json:    \"SeriesDescription\": \"HighResHippo\",||g' > HighResHippo.txt\n",
      "\n"
     ]
    }
   ],
   "source": [
    "cmds_list = []\n",
    "for description in desc_list:\n",
    "    modified_description = re.sub(r\"[\\([{})\\]]\", \"\", description)\n",
    "    outfile = '_'.join(modified_description.split())+'.txt'\n",
    "    bash_cmd = f\"for i in `find . -name '*.json'`; do grep -wH \\\"\\\\\\\"SeriesDescription\\\\\\\": \\\\\\\"{description}\\\\\\\"\\\" $i; done | sed 's|.json:    \\\"SeriesDescription\\\": \\\"{description}\\\",||g' > {outfile}\"\n",
    "    cmds_list.append(bash_cmd)\n",
    "    print(bash_cmd+'\\n')\n"
   ],
   "metadata": {
    "collapsed": false,
    "pycharm": {
     "name": "#%%\n"
    }
   }
  },
  {
   "cell_type": "code",
   "execution_count": 5,
   "outputs": [],
   "source": [
    "with open(root.joinpath('scripts_output/series_descriptions_and_filename_cmds.sh'),'w') as f:\n",
    "    for cmd in cmds_list:\n",
    "        f.write(cmd+'\\n')\n",
    "###### RUN THIS SHELL SCRIPT BEFORE MOVING FORWARD ######"
   ],
   "metadata": {
    "collapsed": false,
    "pycharm": {
     "name": "#%%\n"
    }
   }
  },
  {
   "cell_type": "code",
   "execution_count": 6,
   "outputs": [
    {
     "data": {
      "text/plain": "[PosixPath('/Users/arshitha/Desktop/OneDesk/Projects/17M081_June_2022/hv-protocol-forked-repo/curation_helper_scripts/renaming_files_without_re-conversion/data/17M081_jsons/series_to_filenames/Sagittal_3D_FLAIR.txt'),\n PosixPath('/Users/arshitha/Desktop/OneDesk/Projects/17M081_June_2022/hv-protocol-forked-repo/curation_helper_scripts/renaming_files_without_re-conversion/data/17M081_jsons/series_to_filenames/Axial_DTI_B_1000.txt'),\n PosixPath('/Users/arshitha/Desktop/OneDesk/Projects/17M081_June_2022/hv-protocol-forked-repo/curation_helper_scripts/renaming_files_without_re-conversion/data/17M081_jsons/series_to_filenames/Axial_fMRI_reverse_blip.txt'),\n PosixPath('/Users/arshitha/Desktop/OneDesk/Projects/17M081_June_2022/hv-protocol-forked-repo/curation_helper_scripts/renaming_files_without_re-conversion/data/17M081_jsons/series_to_filenames/PURE_MP-RAGE_1mm.txt'),\n PosixPath('/Users/arshitha/Desktop/OneDesk/Projects/17M081_June_2022/hv-protocol-forked-repo/curation_helper_scripts/renaming_files_without_re-conversion/data/17M081_jsons/series_to_filenames/Anat_T2w_CUBE_ABCD.txt'),\n PosixPath('/Users/arshitha/Desktop/OneDesk/Projects/17M081_June_2022/hv-protocol-forked-repo/curation_helper_scripts/renaming_files_without_re-conversion/data/17M081_jsons/series_to_filenames/Axial_DTI_B_1000_-_RKV.txt'),\n PosixPath('/Users/arshitha/Desktop/OneDesk/Projects/17M081_June_2022/hv-protocol-forked-repo/curation_helper_scripts/renaming_files_without_re-conversion/data/17M081_jsons/series_to_filenames/Axial_DTI_-_swap_pepolar_CV.txt'),\n PosixPath('/Users/arshitha/Desktop/OneDesk/Projects/17M081_June_2022/hv-protocol-forked-repo/curation_helper_scripts/renaming_files_without_re-conversion/data/17M081_jsons/series_to_filenames/ADNI2_2D_FLAIR.txt'),\n PosixPath('/Users/arshitha/Desktop/OneDesk/Projects/17M081_June_2022/hv-protocol-forked-repo/curation_helper_scripts/renaming_files_without_re-conversion/data/17M081_jsons/series_to_filenames/Axial_3D_pCASL_Eyes_Open.txt'),\n PosixPath('/Users/arshitha/Desktop/OneDesk/Projects/17M081_June_2022/hv-protocol-forked-repo/curation_helper_scripts/renaming_files_without_re-conversion/data/17M081_jsons/series_to_filenames/Axial_DTI_24dirs_flipped_-_RKV.txt'),\n PosixPath('/Users/arshitha/Desktop/OneDesk/Projects/17M081_June_2022/hv-protocol-forked-repo/curation_helper_scripts/renaming_files_without_re-conversion/data/17M081_jsons/series_to_filenames/Axial_DTI_B=1000.txt'),\n PosixPath('/Users/arshitha/Desktop/OneDesk/Projects/17M081_June_2022/hv-protocol-forked-repo/curation_helper_scripts/renaming_files_without_re-conversion/data/17M081_jsons/series_to_filenames/Axial_rsfMRI_with_Eyes_Open_-_RKV.txt'),\n PosixPath('/Users/arshitha/Desktop/OneDesk/Projects/17M081_June_2022/hv-protocol-forked-repo/curation_helper_scripts/renaming_files_without_re-conversion/data/17M081_jsons/series_to_filenames/Axial_DTI_24vols_flipped.txt'),\n PosixPath('/Users/arshitha/Desktop/OneDesk/Projects/17M081_June_2022/hv-protocol-forked-repo/curation_helper_scripts/renaming_files_without_re-conversion/data/17M081_jsons/series_to_filenames/Axial_rsfMRI_Eyes_Open.txt'),\n PosixPath('/Users/arshitha/Desktop/OneDesk/Projects/17M081_June_2022/hv-protocol-forked-repo/curation_helper_scripts/renaming_files_without_re-conversion/data/17M081_jsons/series_to_filenames/B0_Map_-_rsfMRI_-_RKV.txt'),\n PosixPath('/Users/arshitha/Desktop/OneDesk/Projects/17M081_June_2022/hv-protocol-forked-repo/curation_helper_scripts/renaming_files_without_re-conversion/data/17M081_jsons/series_to_filenames/Accelerated_Sagittal_IR-FSPGR.txt'),\n PosixPath('/Users/arshitha/Desktop/OneDesk/Projects/17M081_June_2022/hv-protocol-forked-repo/curation_helper_scripts/renaming_files_without_re-conversion/data/17M081_jsons/series_to_filenames/Axial_DTI_24dirs_flipped.txt'),\n PosixPath('/Users/arshitha/Desktop/OneDesk/Projects/17M081_June_2022/hv-protocol-forked-repo/curation_helper_scripts/renaming_files_without_re-conversion/data/17M081_jsons/series_to_filenames/ORIG_Anat_T2w_CUBE_ABCD.txt'),\n PosixPath('/Users/arshitha/Desktop/OneDesk/Projects/17M081_June_2022/hv-protocol-forked-repo/curation_helper_scripts/renaming_files_without_re-conversion/data/17M081_jsons/series_to_filenames/Axial_DTI.txt'),\n PosixPath('/Users/arshitha/Desktop/OneDesk/Projects/17M081_June_2022/hv-protocol-forked-repo/curation_helper_scripts/renaming_files_without_re-conversion/data/17M081_jsons/series_to_filenames/Axial_T2_Star_Rx_2D_FLAIR.txt'),\n PosixPath('/Users/arshitha/Desktop/OneDesk/Projects/17M081_June_2022/hv-protocol-forked-repo/curation_helper_scripts/renaming_files_without_re-conversion/data/17M081_jsons/series_to_filenames/ORIG_ADNI2_2D_FLAIR.txt'),\n PosixPath('/Users/arshitha/Desktop/OneDesk/Projects/17M081_June_2022/hv-protocol-forked-repo/curation_helper_scripts/renaming_files_without_re-conversion/data/17M081_jsons/series_to_filenames/Ax_T2_FLAIR.txt'),\n PosixPath('/Users/arshitha/Desktop/OneDesk/Projects/17M081_June_2022/hv-protocol-forked-repo/curation_helper_scripts/renaming_files_without_re-conversion/data/17M081_jsons/series_to_filenames/B0_Map_-_rsfMRI.txt'),\n PosixPath('/Users/arshitha/Desktop/OneDesk/Projects/17M081_June_2022/hv-protocol-forked-repo/curation_helper_scripts/renaming_files_without_re-conversion/data/17M081_jsons/series_to_filenames/Axial_T2_2D_FLAIR_ADNI2.txt'),\n PosixPath('/Users/arshitha/Desktop/OneDesk/Projects/17M081_June_2022/hv-protocol-forked-repo/curation_helper_scripts/renaming_files_without_re-conversion/data/17M081_jsons/series_to_filenames/B0_Map_-_DTI_-_RKV.txt'),\n PosixPath('/Users/arshitha/Desktop/OneDesk/Projects/17M081_June_2022/hv-protocol-forked-repo/curation_helper_scripts/renaming_files_without_re-conversion/data/17M081_jsons/series_to_filenames/B0_Map_-_DTI.txt'),\n PosixPath('/Users/arshitha/Desktop/OneDesk/Projects/17M081_June_2022/hv-protocol-forked-repo/curation_helper_scripts/renaming_files_without_re-conversion/data/17M081_jsons/series_to_filenames/Optional_-_Sagittal_3D_FLAIR.txt'),\n PosixPath('/Users/arshitha/Desktop/OneDesk/Projects/17M081_June_2022/hv-protocol-forked-repo/curation_helper_scripts/renaming_files_without_re-conversion/data/17M081_jsons/series_to_filenames/Axial_T2_Star.txt'),\n PosixPath('/Users/arshitha/Desktop/OneDesk/Projects/17M081_June_2022/hv-protocol-forked-repo/curation_helper_scripts/renaming_files_without_re-conversion/data/17M081_jsons/series_to_filenames/Axial_3D_pCASL_with_Eyes_Open.txt'),\n PosixPath('/Users/arshitha/Desktop/OneDesk/Projects/17M081_June_2022/hv-protocol-forked-repo/curation_helper_scripts/renaming_files_without_re-conversion/data/17M081_jsons/series_to_filenames/HighResHippo.txt'),\n PosixPath('/Users/arshitha/Desktop/OneDesk/Projects/17M081_June_2022/hv-protocol-forked-repo/curation_helper_scripts/renaming_files_without_re-conversion/data/17M081_jsons/series_to_filenames/Optional_-_Anat_T2w_CUBE_FLAIR.txt'),\n PosixPath('/Users/arshitha/Desktop/OneDesk/Projects/17M081_June_2022/hv-protocol-forked-repo/curation_helper_scripts/renaming_files_without_re-conversion/data/17M081_jsons/series_to_filenames/ORIG_Axial_T2_2D_FLAIR_ADNI2.txt'),\n PosixPath('/Users/arshitha/Desktop/OneDesk/Projects/17M081_June_2022/hv-protocol-forked-repo/curation_helper_scripts/renaming_files_without_re-conversion/data/17M081_jsons/series_to_filenames/Sag_CUBE_T2.txt'),\n PosixPath('/Users/arshitha/Desktop/OneDesk/Projects/17M081_June_2022/hv-protocol-forked-repo/curation_helper_scripts/renaming_files_without_re-conversion/data/17M081_jsons/series_to_filenames/Anat_T1w_MP-RAGE_1mm_ABCD.txt'),\n PosixPath('/Users/arshitha/Desktop/OneDesk/Projects/17M081_June_2022/hv-protocol-forked-repo/curation_helper_scripts/renaming_files_without_re-conversion/data/17M081_jsons/series_to_filenames/Axial_T2_2D_FLAIR.txt'),\n PosixPath('/Users/arshitha/Desktop/OneDesk/Projects/17M081_June_2022/hv-protocol-forked-repo/curation_helper_scripts/renaming_files_without_re-conversion/data/17M081_jsons/series_to_filenames/ORIG_Optional_-_Anat_T2w_CUBE_FLAIR.txt'),\n PosixPath('/Users/arshitha/Desktop/OneDesk/Projects/17M081_June_2022/hv-protocol-forked-repo/curation_helper_scripts/renaming_files_without_re-conversion/data/17M081_jsons/series_to_filenames/ORIG_Anat_T1w_MP-RAGE_1mm_ABCD.txt'),\n PosixPath('/Users/arshitha/Desktop/OneDesk/Projects/17M081_June_2022/hv-protocol-forked-repo/curation_helper_scripts/renaming_files_without_re-conversion/data/17M081_jsons/series_to_filenames/Axial_rsfMRI_reverse_blip_-_RKV.txt'),\n PosixPath('/Users/arshitha/Desktop/OneDesk/Projects/17M081_June_2022/hv-protocol-forked-repo/curation_helper_scripts/renaming_files_without_re-conversion/data/17M081_jsons/series_to_filenames/Axial_DTI_24dir_flipped.txt'),\n PosixPath('/Users/arshitha/Desktop/OneDesk/Projects/17M081_June_2022/hv-protocol-forked-repo/curation_helper_scripts/renaming_files_without_re-conversion/data/17M081_jsons/series_to_filenames/ORIG_Sag_MPRAGE_T1.txt')]"
     },
     "execution_count": 6,
     "metadata": {},
     "output_type": "execute_result"
    }
   ],
   "source": [
    "series_filenames = list(data.joinpath('series_to_filenames').glob('*.txt'))\n",
    "series_filenames"
   ],
   "metadata": {
    "collapsed": false,
    "pycharm": {
     "name": "#%%\n"
    }
   }
  },
  {
   "cell_type": "code",
   "execution_count": 7,
   "outputs": [],
   "source": [
    "df_columns = ['original_series_description', 'modified_series_description', 'current_bids_filename', 'revised_common_identifiers', 'revised_bids_filename']\n",
    "df = pd.DataFrame(columns=df_columns)\n",
    "idx = 0\n",
    "for series_filename in series_filenames:\n",
    "    desc = series_filename.name.split('.')[0]\n",
    "    f = open(series_filename, 'r')\n",
    "    for line in f.readlines():\n",
    "        df.at[idx, 'current_bids_filename'] = line.strip().split('./')[1]\n",
    "        df.at[idx, 'modified_series_description'] = desc\n",
    "        idx+=1\n"
   ],
   "metadata": {
    "collapsed": false,
    "pycharm": {
     "name": "#%%\n"
    }
   }
  },
  {
   "cell_type": "code",
   "execution_count": 8,
   "outputs": [
    {
     "data": {
      "text/plain": "     original_series_description modified_series_description  \\\n0                            NaN           Sagittal_3D_FLAIR   \n1                            NaN           Sagittal_3D_FLAIR   \n2                            NaN           Sagittal_3D_FLAIR   \n3                            NaN           Sagittal_3D_FLAIR   \n4                            NaN           Sagittal_3D_FLAIR   \n...                          ...                         ...   \n1855                         NaN     Axial_DTI_24dir_flipped   \n1856                         NaN          ORIG_Sag_MPRAGE_T1   \n1857                         NaN          ORIG_Sag_MPRAGE_T1   \n1858                         NaN          ORIG_Sag_MPRAGE_T1   \n1859                         NaN          ORIG_Sag_MPRAGE_T1   \n\n                                  current_bids_filename  \\\n0     sourcedata/sub-ON31551/ses-01/anat/sub-ON31551...   \n1     sourcedata/sub-ON48555/ses-01/anat/sub-ON48555...   \n2     sourcedata/sub-ON43001/ses-01/anat/sub-ON43001...   \n3     sourcedata/sub-ON67121/ses-01/anat/sub-ON67121...   \n4     sourcedata/sub-ON92067/ses-01/anat/sub-ON92067...   \n...                                                 ...   \n1855  sourcedata/sub-ON59735/ses-01/dwi/sub-ON59735_...   \n1856  sourcedata/sub-ON69092/ses-01/anat/sub-ON69092...   \n1857  sourcedata/sub-ON82948/ses-01/anat/sub-ON82948...   \n1858  sourcedata/sub-ON98806/ses-01/anat/sub-ON98806...   \n1859  sourcedata/sub-ON87538/ses-01/anat/sub-ON87538...   \n\n     revised_common_identifiers revised_bids_filename  \n0                           NaN                   NaN  \n1                           NaN                   NaN  \n2                           NaN                   NaN  \n3                           NaN                   NaN  \n4                           NaN                   NaN  \n...                         ...                   ...  \n1855                        NaN                   NaN  \n1856                        NaN                   NaN  \n1857                        NaN                   NaN  \n1858                        NaN                   NaN  \n1859                        NaN                   NaN  \n\n[1860 rows x 5 columns]",
      "text/html": "<div>\n<style scoped>\n    .dataframe tbody tr th:only-of-type {\n        vertical-align: middle;\n    }\n\n    .dataframe tbody tr th {\n        vertical-align: top;\n    }\n\n    .dataframe thead th {\n        text-align: right;\n    }\n</style>\n<table border=\"1\" class=\"dataframe\">\n  <thead>\n    <tr style=\"text-align: right;\">\n      <th></th>\n      <th>original_series_description</th>\n      <th>modified_series_description</th>\n      <th>current_bids_filename</th>\n      <th>revised_common_identifiers</th>\n      <th>revised_bids_filename</th>\n    </tr>\n  </thead>\n  <tbody>\n    <tr>\n      <th>0</th>\n      <td>NaN</td>\n      <td>Sagittal_3D_FLAIR</td>\n      <td>sourcedata/sub-ON31551/ses-01/anat/sub-ON31551...</td>\n      <td>NaN</td>\n      <td>NaN</td>\n    </tr>\n    <tr>\n      <th>1</th>\n      <td>NaN</td>\n      <td>Sagittal_3D_FLAIR</td>\n      <td>sourcedata/sub-ON48555/ses-01/anat/sub-ON48555...</td>\n      <td>NaN</td>\n      <td>NaN</td>\n    </tr>\n    <tr>\n      <th>2</th>\n      <td>NaN</td>\n      <td>Sagittal_3D_FLAIR</td>\n      <td>sourcedata/sub-ON43001/ses-01/anat/sub-ON43001...</td>\n      <td>NaN</td>\n      <td>NaN</td>\n    </tr>\n    <tr>\n      <th>3</th>\n      <td>NaN</td>\n      <td>Sagittal_3D_FLAIR</td>\n      <td>sourcedata/sub-ON67121/ses-01/anat/sub-ON67121...</td>\n      <td>NaN</td>\n      <td>NaN</td>\n    </tr>\n    <tr>\n      <th>4</th>\n      <td>NaN</td>\n      <td>Sagittal_3D_FLAIR</td>\n      <td>sourcedata/sub-ON92067/ses-01/anat/sub-ON92067...</td>\n      <td>NaN</td>\n      <td>NaN</td>\n    </tr>\n    <tr>\n      <th>...</th>\n      <td>...</td>\n      <td>...</td>\n      <td>...</td>\n      <td>...</td>\n      <td>...</td>\n    </tr>\n    <tr>\n      <th>1855</th>\n      <td>NaN</td>\n      <td>Axial_DTI_24dir_flipped</td>\n      <td>sourcedata/sub-ON59735/ses-01/dwi/sub-ON59735_...</td>\n      <td>NaN</td>\n      <td>NaN</td>\n    </tr>\n    <tr>\n      <th>1856</th>\n      <td>NaN</td>\n      <td>ORIG_Sag_MPRAGE_T1</td>\n      <td>sourcedata/sub-ON69092/ses-01/anat/sub-ON69092...</td>\n      <td>NaN</td>\n      <td>NaN</td>\n    </tr>\n    <tr>\n      <th>1857</th>\n      <td>NaN</td>\n      <td>ORIG_Sag_MPRAGE_T1</td>\n      <td>sourcedata/sub-ON82948/ses-01/anat/sub-ON82948...</td>\n      <td>NaN</td>\n      <td>NaN</td>\n    </tr>\n    <tr>\n      <th>1858</th>\n      <td>NaN</td>\n      <td>ORIG_Sag_MPRAGE_T1</td>\n      <td>sourcedata/sub-ON98806/ses-01/anat/sub-ON98806...</td>\n      <td>NaN</td>\n      <td>NaN</td>\n    </tr>\n    <tr>\n      <th>1859</th>\n      <td>NaN</td>\n      <td>ORIG_Sag_MPRAGE_T1</td>\n      <td>sourcedata/sub-ON87538/ses-01/anat/sub-ON87538...</td>\n      <td>NaN</td>\n      <td>NaN</td>\n    </tr>\n  </tbody>\n</table>\n<p>1860 rows × 5 columns</p>\n</div>"
     },
     "execution_count": 8,
     "metadata": {},
     "output_type": "execute_result"
    }
   ],
   "source": [
    "df"
   ],
   "metadata": {
    "collapsed": false,
    "pycharm": {
     "name": "#%%\n"
    }
   }
  },
  {
   "cell_type": "code",
   "execution_count": 9,
   "outputs": [
    {
     "data": {
      "text/plain": "            original_series_description          modified_series_description  \\\n0         Accelerated Sagittal IR-FSPGR        Accelerated_Sagittal_IR-FSPGR   \n1                        ADNI2 2D FLAIR                       ADNI2_2D_FLAIR   \n2           Anat T1w MP-RAGE 1mm (ABCD)            Anat_T1w_MP-RAGE_1mm_ABCD   \n3                  Anat T2w CUBE (ABCD)                   Anat_T2w_CUBE_ABCD   \n4                           Ax T2 FLAIR                          Ax_T2_FLAIR   \n5            Axial 3D pCASL (Eyes Open)             Axial_3D_pCASL_Eyes_Open   \n6         Axial 3D pCASL with Eyes Open        Axial_3D_pCASL_with_Eyes_Open   \n7           Axial DTI - swap pepolar CV          Axial_DTI_-_swap_pepolar_CV   \n8               Axial DTI 24dir flipped              Axial_DTI_24dir_flipped   \n9        Axial DTI 24dirs flipped - RKV       Axial_DTI_24dirs_flipped_-_RKV   \n10             Axial DTI 24dirs flipped             Axial_DTI_24dirs_flipped   \n11             Axial DTI 24vols flipped             Axial_DTI_24vols_flipped   \n12               Axial DTI B 1000 - RKV               Axial_DTI_B_1000_-_RKV   \n13                     Axial DTI B 1000                     Axial_DTI_B_1000   \n14                     Axial DTI B=1000                     Axial_DTI_B=1000   \n15                            Axial DTI                            Axial_DTI   \n16              Axial fMRI reverse blip              Axial_fMRI_reverse_blip   \n17             Axial rsfMRI (Eyes Open)               Axial_rsfMRI_Eyes_Open   \n18      Axial rsfMRI reverse blip - RKV      Axial_rsfMRI_reverse_blip_-_RKV   \n19    Axial rsfMRI with Eyes Open - RKV    Axial_rsfMRI_with_Eyes_Open_-_RKV   \n20              Axial T2 2D FLAIR ADNI2              Axial_T2_2D_FLAIR_ADNI2   \n21                    Axial T2 2D FLAIR                    Axial_T2_2D_FLAIR   \n22          Axial T2 Star (Rx 2D FLAIR)            Axial_T2_Star_Rx_2D_FLAIR   \n23                        Axial T2 Star                        Axial_T2_Star   \n24                   B0 Map - DTI - RKV                   B0_Map_-_DTI_-_RKV   \n25                         B0 Map - DTI                         B0_Map_-_DTI   \n26                B0 Map - rsfMRI - RKV                B0_Map_-_rsfMRI_-_RKV   \n27                      B0 Map - rsfMRI                      B0_Map_-_rsfMRI   \n28                         HighResHippo                         HighResHippo   \n29       Optional - Anat T2w CUBE FLAIR       Optional_-_Anat_T2w_CUBE_FLAIR   \n30         Optional - Sagittal 3D FLAIR         Optional_-_Sagittal_3D_FLAIR   \n31                  ORIG ADNI2 2D FLAIR                  ORIG_ADNI2_2D_FLAIR   \n32     ORIG Anat T1w MP-RAGE 1mm (ABCD)       ORIG_Anat_T1w_MP-RAGE_1mm_ABCD   \n33            ORIG Anat T2w CUBE (ABCD)              ORIG_Anat_T2w_CUBE_ABCD   \n34         ORIG Axial T2 2D FLAIR ADNI2         ORIG_Axial_T2_2D_FLAIR_ADNI2   \n35  ORIG Optional - Anat T2w CUBE FLAIR  ORIG_Optional_-_Anat_T2w_CUBE_FLAIR   \n36                   ORIG Sag_MPRAGE_T1                   ORIG_Sag_MPRAGE_T1   \n37                     PURE MP-RAGE 1mm                     PURE_MP-RAGE_1mm   \n38                          Sag_CUBE_T2                          Sag_CUBE_T2   \n39                    Sagittal 3D FLAIR                    Sagittal_3D_FLAIR   \n\n        revised_common_identifiers  \n0          _acq-fspgr_rec-SCIC_T1w  \n1      _acq-2dADNI2_rec-SCIC_FLAIR  \n2         _acq-MPRAGE_rec-SCIC_T1w  \n3           _acq-CUBE_rec-SCIC_T2w  \n4   _acq-VariableTE_rec-SCIC_FLAIR  \n5                             _asl  \n6                             _asl  \n7               _dir-unflipped_dwi  \n8               _dir-unflipped_dwi  \n9               _dir-unflipped_dwi  \n10              _dir-unflipped_dwi  \n11              _dir-unflipped_dwi  \n12                _dir-flipped_dwi  \n13                _dir-flipped_dwi  \n14                _dir-flipped_dwi  \n15                _acq-flipped_dwi  \n16     _task-rest_dir-reverse_bold  \n17     _task-rest_dir-forward_bold  \n18     _task-rest_dir-reverse_bold  \n19     _task-rest_dir-forward_bold  \n20     _acq-2dADNI2_rec-SCIC_FLAIR  \n21          _acq-2d_rec-SCIC_FLAIR  \n22               _rec-SCIC_T2starw  \n23               _rec-SCIC_T2starw  \n24               _acq-dwi_fieldmap  \n25               _acq-dwi_fieldmap  \n26              _acq-bold_fieldmap  \n27              _acq-bold_fieldmap  \n28           _acq-HighResHippo_T1w  \n29          _acq-3d_rec-SCIC_FLAIR  \n30  _acq-Sagittal3d_rec-SCIC_FLAIR  \n31              _acq-2dADNI2_FLAIR  \n32                 _acq-MPRAGE_T1w  \n33                   _acq-CUBE_T2w  \n34              _acq-2dADNI2_FLAIR  \n35                   _acq-3d_FLAIR  \n36         _acq-SagittalMPRAGE_T1w  \n37    _acq-PureMPRAGE-rec_scic_T1w  \n38           _acq-SagittalCUBE_T2w  \n39  _acq-Sagittal3d_rec-SCIC_FLAIR  ",
      "text/html": "<div>\n<style scoped>\n    .dataframe tbody tr th:only-of-type {\n        vertical-align: middle;\n    }\n\n    .dataframe tbody tr th {\n        vertical-align: top;\n    }\n\n    .dataframe thead th {\n        text-align: right;\n    }\n</style>\n<table border=\"1\" class=\"dataframe\">\n  <thead>\n    <tr style=\"text-align: right;\">\n      <th></th>\n      <th>original_series_description</th>\n      <th>modified_series_description</th>\n      <th>revised_common_identifiers</th>\n    </tr>\n  </thead>\n  <tbody>\n    <tr>\n      <th>0</th>\n      <td>Accelerated Sagittal IR-FSPGR</td>\n      <td>Accelerated_Sagittal_IR-FSPGR</td>\n      <td>_acq-fspgr_rec-SCIC_T1w</td>\n    </tr>\n    <tr>\n      <th>1</th>\n      <td>ADNI2 2D FLAIR</td>\n      <td>ADNI2_2D_FLAIR</td>\n      <td>_acq-2dADNI2_rec-SCIC_FLAIR</td>\n    </tr>\n    <tr>\n      <th>2</th>\n      <td>Anat T1w MP-RAGE 1mm (ABCD)</td>\n      <td>Anat_T1w_MP-RAGE_1mm_ABCD</td>\n      <td>_acq-MPRAGE_rec-SCIC_T1w</td>\n    </tr>\n    <tr>\n      <th>3</th>\n      <td>Anat T2w CUBE (ABCD)</td>\n      <td>Anat_T2w_CUBE_ABCD</td>\n      <td>_acq-CUBE_rec-SCIC_T2w</td>\n    </tr>\n    <tr>\n      <th>4</th>\n      <td>Ax T2 FLAIR</td>\n      <td>Ax_T2_FLAIR</td>\n      <td>_acq-VariableTE_rec-SCIC_FLAIR</td>\n    </tr>\n    <tr>\n      <th>5</th>\n      <td>Axial 3D pCASL (Eyes Open)</td>\n      <td>Axial_3D_pCASL_Eyes_Open</td>\n      <td>_asl</td>\n    </tr>\n    <tr>\n      <th>6</th>\n      <td>Axial 3D pCASL with Eyes Open</td>\n      <td>Axial_3D_pCASL_with_Eyes_Open</td>\n      <td>_asl</td>\n    </tr>\n    <tr>\n      <th>7</th>\n      <td>Axial DTI - swap pepolar CV</td>\n      <td>Axial_DTI_-_swap_pepolar_CV</td>\n      <td>_dir-unflipped_dwi</td>\n    </tr>\n    <tr>\n      <th>8</th>\n      <td>Axial DTI 24dir flipped</td>\n      <td>Axial_DTI_24dir_flipped</td>\n      <td>_dir-unflipped_dwi</td>\n    </tr>\n    <tr>\n      <th>9</th>\n      <td>Axial DTI 24dirs flipped - RKV</td>\n      <td>Axial_DTI_24dirs_flipped_-_RKV</td>\n      <td>_dir-unflipped_dwi</td>\n    </tr>\n    <tr>\n      <th>10</th>\n      <td>Axial DTI 24dirs flipped</td>\n      <td>Axial_DTI_24dirs_flipped</td>\n      <td>_dir-unflipped_dwi</td>\n    </tr>\n    <tr>\n      <th>11</th>\n      <td>Axial DTI 24vols flipped</td>\n      <td>Axial_DTI_24vols_flipped</td>\n      <td>_dir-unflipped_dwi</td>\n    </tr>\n    <tr>\n      <th>12</th>\n      <td>Axial DTI B 1000 - RKV</td>\n      <td>Axial_DTI_B_1000_-_RKV</td>\n      <td>_dir-flipped_dwi</td>\n    </tr>\n    <tr>\n      <th>13</th>\n      <td>Axial DTI B 1000</td>\n      <td>Axial_DTI_B_1000</td>\n      <td>_dir-flipped_dwi</td>\n    </tr>\n    <tr>\n      <th>14</th>\n      <td>Axial DTI B=1000</td>\n      <td>Axial_DTI_B=1000</td>\n      <td>_dir-flipped_dwi</td>\n    </tr>\n    <tr>\n      <th>15</th>\n      <td>Axial DTI</td>\n      <td>Axial_DTI</td>\n      <td>_acq-flipped_dwi</td>\n    </tr>\n    <tr>\n      <th>16</th>\n      <td>Axial fMRI reverse blip</td>\n      <td>Axial_fMRI_reverse_blip</td>\n      <td>_task-rest_dir-reverse_bold</td>\n    </tr>\n    <tr>\n      <th>17</th>\n      <td>Axial rsfMRI (Eyes Open)</td>\n      <td>Axial_rsfMRI_Eyes_Open</td>\n      <td>_task-rest_dir-forward_bold</td>\n    </tr>\n    <tr>\n      <th>18</th>\n      <td>Axial rsfMRI reverse blip - RKV</td>\n      <td>Axial_rsfMRI_reverse_blip_-_RKV</td>\n      <td>_task-rest_dir-reverse_bold</td>\n    </tr>\n    <tr>\n      <th>19</th>\n      <td>Axial rsfMRI with Eyes Open - RKV</td>\n      <td>Axial_rsfMRI_with_Eyes_Open_-_RKV</td>\n      <td>_task-rest_dir-forward_bold</td>\n    </tr>\n    <tr>\n      <th>20</th>\n      <td>Axial T2 2D FLAIR ADNI2</td>\n      <td>Axial_T2_2D_FLAIR_ADNI2</td>\n      <td>_acq-2dADNI2_rec-SCIC_FLAIR</td>\n    </tr>\n    <tr>\n      <th>21</th>\n      <td>Axial T2 2D FLAIR</td>\n      <td>Axial_T2_2D_FLAIR</td>\n      <td>_acq-2d_rec-SCIC_FLAIR</td>\n    </tr>\n    <tr>\n      <th>22</th>\n      <td>Axial T2 Star (Rx 2D FLAIR)</td>\n      <td>Axial_T2_Star_Rx_2D_FLAIR</td>\n      <td>_rec-SCIC_T2starw</td>\n    </tr>\n    <tr>\n      <th>23</th>\n      <td>Axial T2 Star</td>\n      <td>Axial_T2_Star</td>\n      <td>_rec-SCIC_T2starw</td>\n    </tr>\n    <tr>\n      <th>24</th>\n      <td>B0 Map - DTI - RKV</td>\n      <td>B0_Map_-_DTI_-_RKV</td>\n      <td>_acq-dwi_fieldmap</td>\n    </tr>\n    <tr>\n      <th>25</th>\n      <td>B0 Map - DTI</td>\n      <td>B0_Map_-_DTI</td>\n      <td>_acq-dwi_fieldmap</td>\n    </tr>\n    <tr>\n      <th>26</th>\n      <td>B0 Map - rsfMRI - RKV</td>\n      <td>B0_Map_-_rsfMRI_-_RKV</td>\n      <td>_acq-bold_fieldmap</td>\n    </tr>\n    <tr>\n      <th>27</th>\n      <td>B0 Map - rsfMRI</td>\n      <td>B0_Map_-_rsfMRI</td>\n      <td>_acq-bold_fieldmap</td>\n    </tr>\n    <tr>\n      <th>28</th>\n      <td>HighResHippo</td>\n      <td>HighResHippo</td>\n      <td>_acq-HighResHippo_T1w</td>\n    </tr>\n    <tr>\n      <th>29</th>\n      <td>Optional - Anat T2w CUBE FLAIR</td>\n      <td>Optional_-_Anat_T2w_CUBE_FLAIR</td>\n      <td>_acq-3d_rec-SCIC_FLAIR</td>\n    </tr>\n    <tr>\n      <th>30</th>\n      <td>Optional - Sagittal 3D FLAIR</td>\n      <td>Optional_-_Sagittal_3D_FLAIR</td>\n      <td>_acq-Sagittal3d_rec-SCIC_FLAIR</td>\n    </tr>\n    <tr>\n      <th>31</th>\n      <td>ORIG ADNI2 2D FLAIR</td>\n      <td>ORIG_ADNI2_2D_FLAIR</td>\n      <td>_acq-2dADNI2_FLAIR</td>\n    </tr>\n    <tr>\n      <th>32</th>\n      <td>ORIG Anat T1w MP-RAGE 1mm (ABCD)</td>\n      <td>ORIG_Anat_T1w_MP-RAGE_1mm_ABCD</td>\n      <td>_acq-MPRAGE_T1w</td>\n    </tr>\n    <tr>\n      <th>33</th>\n      <td>ORIG Anat T2w CUBE (ABCD)</td>\n      <td>ORIG_Anat_T2w_CUBE_ABCD</td>\n      <td>_acq-CUBE_T2w</td>\n    </tr>\n    <tr>\n      <th>34</th>\n      <td>ORIG Axial T2 2D FLAIR ADNI2</td>\n      <td>ORIG_Axial_T2_2D_FLAIR_ADNI2</td>\n      <td>_acq-2dADNI2_FLAIR</td>\n    </tr>\n    <tr>\n      <th>35</th>\n      <td>ORIG Optional - Anat T2w CUBE FLAIR</td>\n      <td>ORIG_Optional_-_Anat_T2w_CUBE_FLAIR</td>\n      <td>_acq-3d_FLAIR</td>\n    </tr>\n    <tr>\n      <th>36</th>\n      <td>ORIG Sag_MPRAGE_T1</td>\n      <td>ORIG_Sag_MPRAGE_T1</td>\n      <td>_acq-SagittalMPRAGE_T1w</td>\n    </tr>\n    <tr>\n      <th>37</th>\n      <td>PURE MP-RAGE 1mm</td>\n      <td>PURE_MP-RAGE_1mm</td>\n      <td>_acq-PureMPRAGE-rec_scic_T1w</td>\n    </tr>\n    <tr>\n      <th>38</th>\n      <td>Sag_CUBE_T2</td>\n      <td>Sag_CUBE_T2</td>\n      <td>_acq-SagittalCUBE_T2w</td>\n    </tr>\n    <tr>\n      <th>39</th>\n      <td>Sagittal 3D FLAIR</td>\n      <td>Sagittal_3D_FLAIR</td>\n      <td>_acq-Sagittal3d_rec-SCIC_FLAIR</td>\n    </tr>\n  </tbody>\n</table>\n</div>"
     },
     "execution_count": 9,
     "metadata": {},
     "output_type": "execute_result"
    }
   ],
   "source": [
    "series_to_identifier_df = pd.read_csv(root.joinpath('data/series_descriptions_to_new_common_identifiers.csv'))\n",
    "series_to_identifier_df"
   ],
   "metadata": {
    "collapsed": false,
    "pycharm": {
     "name": "#%%\n"
    }
   }
  },
  {
   "cell_type": "code",
   "execution_count": 10,
   "outputs": [],
   "source": [
    "series_to_identifier_df.to_csv(root.joinpath('scripts_output/series_descriptions_to_revised_identifiers.csv'),quoting=csv.QUOTE_MINIMAL,index=False)"
   ],
   "metadata": {
    "collapsed": false,
    "pycharm": {
     "name": "#%%\n"
    }
   }
  },
  {
   "cell_type": "code",
   "execution_count": 11,
   "outputs": [],
   "source": [
    "grouped_df = df.groupby(by=['modified_series_description'])\n",
    "unique_series_desc = grouped_df.groups.keys()\n",
    "for series_desc in unique_series_desc:\n",
    "    for idx in grouped_df.groups[series_desc]:\n",
    "        curr_filename = df.at[idx, 'current_bids_filename']\n",
    "        prefix = '_'.join(curr_filename.split('_')[:2])\n",
    "        entities = re.split('/|_',curr_filename)\n",
    "        df.at[idx,'original_series_description'] = series_to_identifier_df.loc[series_to_identifier_df['modified_series_description']==series_desc,'original_series_description'].values[0]\n",
    "        new_common_identifier = series_to_identifier_df.loc[series_to_identifier_df['modified_series_description']==series_desc,'revised_common_identifiers'].values[0].strip('_')\n",
    "\n",
    "        # replace fieldmap with magnitude for fmap scans\n",
    "        if 'magnitude' in entities:\n",
    "            parts = new_common_identifier.split('_')\n",
    "            parts[-1] = 'magnitude'\n",
    "            new_common_identifier = '_'.join(parts)\n",
    "\n",
    "        # include run entity in new common identifier\n",
    "        if 'run-01' in entities or 'run-02' in entities:\n",
    "            parts = new_common_identifier.split('_')\n",
    "            parts.insert(-1,entities[-2])\n",
    "            new_common_identifier = '_'.join(parts)\n",
    "\n",
    "        df.at[idx, 'revised_common_identifiers'] = new_common_identifier\n",
    "        new_filename = '_'.join([prefix,new_common_identifier])\n",
    "        df.at[idx, 'revised_bids_filename'] = new_filename\n"
   ],
   "metadata": {
    "collapsed": false,
    "pycharm": {
     "name": "#%%\n"
    }
   }
  },
  {
   "cell_type": "code",
   "execution_count": 12,
   "outputs": [],
   "source": [
    "new_to_old_df = df[['current_bids_filename','revised_bids_filename']]\n",
    "\n",
    "# duplicate every row exactly once. One row with nii.gz and the other with .json suffix\n",
    "with_json_new_to_old_df = pd.DataFrame(np.repeat(new_to_old_df.values, 2, axis=0), columns=new_to_old_df.columns)\n",
    "\n",
    "# add filename \".nii.gz\" and \".json\" suffix to both current and new filenames\n",
    "for idx in with_json_new_to_old_df.index:\n",
    "    if idx % 2 == 0:\n",
    "        with_json_new_to_old_df.at[idx, 'current_bids_filename'] = with_json_new_to_old_df.at[idx, 'current_bids_filename']+'.nii.gz'\n",
    "        with_json_new_to_old_df.at[idx, 'revised_bids_filename'] = with_json_new_to_old_df.at[idx, 'revised_bids_filename']+'.nii.gz'\n",
    "    else:\n",
    "        with_json_new_to_old_df.at[idx, 'current_bids_filename'] = with_json_new_to_old_df.at[idx, 'current_bids_filename']+'.json'\n",
    "        with_json_new_to_old_df.at[idx, 'revised_bids_filename'] = with_json_new_to_old_df.at[idx, 'revised_bids_filename']+'.json'\n"
   ],
   "metadata": {
    "collapsed": false,
    "pycharm": {
     "name": "#%%\n"
    }
   }
  },
  {
   "cell_type": "code",
   "execution_count": 13,
   "outputs": [
    {
     "data": {
      "text/plain": "                                  current_bids_filename  \\\n0     sourcedata/sub-ON31551/ses-01/anat/sub-ON31551...   \n1     sourcedata/sub-ON31551/ses-01/anat/sub-ON31551...   \n2     sourcedata/sub-ON48555/ses-01/anat/sub-ON48555...   \n3     sourcedata/sub-ON48555/ses-01/anat/sub-ON48555...   \n4     sourcedata/sub-ON43001/ses-01/anat/sub-ON43001...   \n...                                                 ...   \n3715  sourcedata/sub-ON82948/ses-01/anat/sub-ON82948...   \n3716  sourcedata/sub-ON98806/ses-01/anat/sub-ON98806...   \n3717  sourcedata/sub-ON98806/ses-01/anat/sub-ON98806...   \n3718  sourcedata/sub-ON87538/ses-01/anat/sub-ON87538...   \n3719  sourcedata/sub-ON87538/ses-01/anat/sub-ON87538...   \n\n                                  revised_bids_filename  \n0     sourcedata/sub-ON31551/ses-01/anat/sub-ON31551...  \n1     sourcedata/sub-ON31551/ses-01/anat/sub-ON31551...  \n2     sourcedata/sub-ON48555/ses-01/anat/sub-ON48555...  \n3     sourcedata/sub-ON48555/ses-01/anat/sub-ON48555...  \n4     sourcedata/sub-ON43001/ses-01/anat/sub-ON43001...  \n...                                                 ...  \n3715  sourcedata/sub-ON82948/ses-01/anat/sub-ON82948...  \n3716  sourcedata/sub-ON98806/ses-01/anat/sub-ON98806...  \n3717  sourcedata/sub-ON98806/ses-01/anat/sub-ON98806...  \n3718  sourcedata/sub-ON87538/ses-01/anat/sub-ON87538...  \n3719  sourcedata/sub-ON87538/ses-01/anat/sub-ON87538...  \n\n[3720 rows x 2 columns]",
      "text/html": "<div>\n<style scoped>\n    .dataframe tbody tr th:only-of-type {\n        vertical-align: middle;\n    }\n\n    .dataframe tbody tr th {\n        vertical-align: top;\n    }\n\n    .dataframe thead th {\n        text-align: right;\n    }\n</style>\n<table border=\"1\" class=\"dataframe\">\n  <thead>\n    <tr style=\"text-align: right;\">\n      <th></th>\n      <th>current_bids_filename</th>\n      <th>revised_bids_filename</th>\n    </tr>\n  </thead>\n  <tbody>\n    <tr>\n      <th>0</th>\n      <td>sourcedata/sub-ON31551/ses-01/anat/sub-ON31551...</td>\n      <td>sourcedata/sub-ON31551/ses-01/anat/sub-ON31551...</td>\n    </tr>\n    <tr>\n      <th>1</th>\n      <td>sourcedata/sub-ON31551/ses-01/anat/sub-ON31551...</td>\n      <td>sourcedata/sub-ON31551/ses-01/anat/sub-ON31551...</td>\n    </tr>\n    <tr>\n      <th>2</th>\n      <td>sourcedata/sub-ON48555/ses-01/anat/sub-ON48555...</td>\n      <td>sourcedata/sub-ON48555/ses-01/anat/sub-ON48555...</td>\n    </tr>\n    <tr>\n      <th>3</th>\n      <td>sourcedata/sub-ON48555/ses-01/anat/sub-ON48555...</td>\n      <td>sourcedata/sub-ON48555/ses-01/anat/sub-ON48555...</td>\n    </tr>\n    <tr>\n      <th>4</th>\n      <td>sourcedata/sub-ON43001/ses-01/anat/sub-ON43001...</td>\n      <td>sourcedata/sub-ON43001/ses-01/anat/sub-ON43001...</td>\n    </tr>\n    <tr>\n      <th>...</th>\n      <td>...</td>\n      <td>...</td>\n    </tr>\n    <tr>\n      <th>3715</th>\n      <td>sourcedata/sub-ON82948/ses-01/anat/sub-ON82948...</td>\n      <td>sourcedata/sub-ON82948/ses-01/anat/sub-ON82948...</td>\n    </tr>\n    <tr>\n      <th>3716</th>\n      <td>sourcedata/sub-ON98806/ses-01/anat/sub-ON98806...</td>\n      <td>sourcedata/sub-ON98806/ses-01/anat/sub-ON98806...</td>\n    </tr>\n    <tr>\n      <th>3717</th>\n      <td>sourcedata/sub-ON98806/ses-01/anat/sub-ON98806...</td>\n      <td>sourcedata/sub-ON98806/ses-01/anat/sub-ON98806...</td>\n    </tr>\n    <tr>\n      <th>3718</th>\n      <td>sourcedata/sub-ON87538/ses-01/anat/sub-ON87538...</td>\n      <td>sourcedata/sub-ON87538/ses-01/anat/sub-ON87538...</td>\n    </tr>\n    <tr>\n      <th>3719</th>\n      <td>sourcedata/sub-ON87538/ses-01/anat/sub-ON87538...</td>\n      <td>sourcedata/sub-ON87538/ses-01/anat/sub-ON87538...</td>\n    </tr>\n  </tbody>\n</table>\n<p>3720 rows × 2 columns</p>\n</div>"
     },
     "execution_count": 13,
     "metadata": {},
     "output_type": "execute_result"
    }
   ],
   "source": [
    "with_json_new_to_old_df"
   ],
   "metadata": {
    "collapsed": false,
    "pycharm": {
     "name": "#%%\n"
    }
   }
  },
  {
   "cell_type": "code",
   "execution_count": 14,
   "outputs": [],
   "source": [
    "with_json_new_to_old_df.to_csv(root.joinpath('scripts_output/old_to_new_bids_filename_mapping.csv'), quoting=csv.QUOTE_MINIMAL, index=False)"
   ],
   "metadata": {
    "collapsed": false,
    "pycharm": {
     "name": "#%%\n"
    }
   }
  },
  {
   "cell_type": "code",
   "execution_count": null,
   "outputs": [],
   "source": [],
   "metadata": {
    "collapsed": false,
    "pycharm": {
     "name": "#%%\n"
    }
   }
  }
 ],
 "metadata": {
  "kernelspec": {
   "display_name": "Python 3",
   "language": "python",
   "name": "python3"
  },
  "language_info": {
   "codemirror_mode": {
    "name": "ipython",
    "version": 2
   },
   "file_extension": ".py",
   "mimetype": "text/x-python",
   "name": "python",
   "nbconvert_exporter": "python",
   "pygments_lexer": "ipython2",
   "version": "2.7.6"
  }
 },
 "nbformat": 4,
 "nbformat_minor": 0
}